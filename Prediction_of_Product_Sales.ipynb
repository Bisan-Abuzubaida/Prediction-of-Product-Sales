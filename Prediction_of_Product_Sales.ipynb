{
  "nbformat": 4,
  "nbformat_minor": 0,
  "metadata": {
    "colab": {
      "provenance": [],
      "authorship_tag": "ABX9TyMuPnx9Oec5+2a2NAe2rMcF",
      "include_colab_link": true
    },
    "kernelspec": {
      "name": "python3",
      "display_name": "Python 3"
    },
    "language_info": {
      "name": "python"
    }
  },
  "cells": [
    {
      "cell_type": "markdown",
      "metadata": {
        "id": "view-in-github",
        "colab_type": "text"
      },
      "source": [
        "<a href=\"https://colab.research.google.com/github/Bisan-Abuzubaida/Prediction-of-Product-Sales/blob/main/Prediction_of_Product_Sales.ipynb\" target=\"_parent\"><img src=\"https://colab.research.google.com/assets/colab-badge.svg\" alt=\"Open In Colab\"/></a>"
      ]
    },
    {
      "cell_type": "markdown",
      "source": [
        "# Prediction of Product Sales"
      ],
      "metadata": {
        "id": "WPuRM2CmbQNY"
      }
    },
    {
      "cell_type": "markdown",
      "source": [
        "- Auhor: Bisan Abuzubaida"
      ],
      "metadata": {
        "id": "hL4Eom7Ab1O8"
      }
    },
    {
      "cell_type": "markdown",
      "source": [
        "## Project Overview\n"
      ],
      "metadata": {
        "id": "GELQ2VJ1b34g"
      }
    },
    {
      "cell_type": "markdown",
      "source": [
        "## Load and Inspect Data"
      ],
      "metadata": {
        "id": "iy4_owZCe70Y"
      }
    },
    {
      "cell_type": "code",
      "source": [],
      "metadata": {
        "id": "KVIQLbBGfQDh"
      },
      "execution_count": null,
      "outputs": []
    },
    {
      "cell_type": "markdown",
      "source": [
        "## Clean Data\n"
      ],
      "metadata": {
        "id": "gh9NKM79e_aH"
      }
    },
    {
      "cell_type": "code",
      "source": [],
      "metadata": {
        "id": "zbcvBc4KfVo3"
      },
      "execution_count": null,
      "outputs": []
    },
    {
      "cell_type": "markdown",
      "source": [
        "## Exploratory Data Analysis"
      ],
      "metadata": {
        "id": "eBYgp__5fBox"
      }
    },
    {
      "cell_type": "code",
      "source": [],
      "metadata": {
        "id": "hePL0dH8fVKU"
      },
      "execution_count": null,
      "outputs": []
    },
    {
      "cell_type": "markdown",
      "source": [
        "## Feature Inspection"
      ],
      "metadata": {
        "id": "j7uXZk5bfGjl"
      }
    },
    {
      "cell_type": "code",
      "execution_count": null,
      "metadata": {
        "id": "pmcHsyt-Xoi6"
      },
      "outputs": [],
      "source": []
    }
  ]
}